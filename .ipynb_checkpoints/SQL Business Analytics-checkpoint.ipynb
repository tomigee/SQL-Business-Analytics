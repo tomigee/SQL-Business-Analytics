{
 "cells": [
  {
   "cell_type": "markdown",
   "id": "297ad7f8-333a-48d9-ae2a-03dbc872a9a3",
   "metadata": {},
   "source": [
    "# SQL Business Analytics - Chinook"
   ]
  },
  {
   "cell_type": "markdown",
   "id": "2d106086-3ada-4de7-81f8-e46bf14ff00c",
   "metadata": {},
   "source": [
    "In this exercise we will be answering some hypothetical questions about a hypothetical online music store (similar to iTunes) called Chinook. We will be answering questions related to Chinook's business, employee performance, etc. We will also perform a bit of data segmentation."
   ]
  },
  {
   "cell_type": "markdown",
   "id": "53553128-580b-43b0-94eb-6a41b05511b9",
   "metadata": {},
   "source": [
    "## 1 - Importing the data"
   ]
  },
  {
   "cell_type": "markdown",
   "id": "b62a1704-d76c-4e05-a5b5-6a75441a4681",
   "metadata": {},
   "source": [
    "First let's setup the database that we'll use to answer these questions."
   ]
  },
  {
   "cell_type": "code",
   "execution_count": 2,
   "id": "07b3cbf0-b143-42d1-882c-516a0d0b5dbf",
   "metadata": {},
   "outputs": [],
   "source": [
    "%%capture\n",
    "%load_ext sql\n",
    "%sql sqlite:///chinook.db"
   ]
  },
  {
   "cell_type": "code",
   "execution_count": 3,
   "id": "c2927601-cfc4-48fb-b961-3850562674d6",
   "metadata": {},
   "outputs": [
    {
     "name": "stdout",
     "output_type": "stream",
     "text": [
      " * sqlite:///chinook.db\n",
      "Done.\n"
     ]
    },
    {
     "data": {
      "text/html": [
       "<table>\n",
       "    <tr>\n",
       "        <th>name</th>\n",
       "        <th>type</th>\n",
       "    </tr>\n",
       "    <tr>\n",
       "        <td>album</td>\n",
       "        <td>table</td>\n",
       "    </tr>\n",
       "    <tr>\n",
       "        <td>artist</td>\n",
       "        <td>table</td>\n",
       "    </tr>\n",
       "    <tr>\n",
       "        <td>customer</td>\n",
       "        <td>table</td>\n",
       "    </tr>\n",
       "    <tr>\n",
       "        <td>employee</td>\n",
       "        <td>table</td>\n",
       "    </tr>\n",
       "    <tr>\n",
       "        <td>genre</td>\n",
       "        <td>table</td>\n",
       "    </tr>\n",
       "    <tr>\n",
       "        <td>invoice</td>\n",
       "        <td>table</td>\n",
       "    </tr>\n",
       "    <tr>\n",
       "        <td>invoice_line</td>\n",
       "        <td>table</td>\n",
       "    </tr>\n",
       "    <tr>\n",
       "        <td>media_type</td>\n",
       "        <td>table</td>\n",
       "    </tr>\n",
       "    <tr>\n",
       "        <td>playlist</td>\n",
       "        <td>table</td>\n",
       "    </tr>\n",
       "    <tr>\n",
       "        <td>playlist_track</td>\n",
       "        <td>table</td>\n",
       "    </tr>\n",
       "    <tr>\n",
       "        <td>track</td>\n",
       "        <td>table</td>\n",
       "    </tr>\n",
       "    <tr>\n",
       "        <td>master_table</td>\n",
       "        <td>view</td>\n",
       "    </tr>\n",
       "    <tr>\n",
       "        <td>master_track_table</td>\n",
       "        <td>view</td>\n",
       "    </tr>\n",
       "</table>"
      ],
      "text/plain": [
       "[('album', 'table'),\n",
       " ('artist', 'table'),\n",
       " ('customer', 'table'),\n",
       " ('employee', 'table'),\n",
       " ('genre', 'table'),\n",
       " ('invoice', 'table'),\n",
       " ('invoice_line', 'table'),\n",
       " ('media_type', 'table'),\n",
       " ('playlist', 'table'),\n",
       " ('playlist_track', 'table'),\n",
       " ('track', 'table'),\n",
       " ('master_table', 'view'),\n",
       " ('master_track_table', 'view')]"
      ]
     },
     "execution_count": 3,
     "metadata": {},
     "output_type": "execute_result"
    }
   ],
   "source": [
    "%%sql\n",
    "SELECT\n",
    "    name,\n",
    "    type\n",
    "FROM sqlite_master\n",
    "WHERE type IN (\"table\",\"view\")"
   ]
  },
  {
   "cell_type": "markdown",
   "id": "9664d271-2b5a-4e6b-8098-dce8618fa79a",
   "metadata": {},
   "source": [
    "Looks like the database was successfully imported. The database comprises of 10 tables containing all kinds of information--from Chinook's employee roster, to their entire customer roster. Below is an overview of the information contained in each table, as well as the key columns connecting different tables:\n",
    "\n",
    "<img src=\"chinook_database_schema.png\" width=\"600\" height=\"400\">"
   ]
  },
  {
   "cell_type": "markdown",
   "id": "7c286c49-5e39-4767-9d2c-36dde73409b3",
   "metadata": {},
   "source": [
    "## 2 - Data Analysis\n",
    "\n",
    "Let's begin answering some questions with this database."
   ]
  },
  {
   "cell_type": "markdown",
   "id": "2b7c0b2b-53ba-469b-8eb9-28a4ecd7d3bf",
   "metadata": {},
   "source": [
    "### 2.1 - Which genre performs the best in the USA?\n",
    "The Chinook store has just signed a deal with a record label. The deal is such that Chinook pays the label for each artist it wants to list on its store. Since Chinook makes money the more popular an album/artist/genre is, we've been been tasked with figuring out which albums from this record label to add to the Chinook store first. We can pick three of the four artists below to list:\n",
    "\n",
    "|Artist name|Genre|\n",
    "|---|---|\n",
    "|Regal|Hip-Hop|\n",
    "|Red Tone|Punk|\n",
    "|Meteor and the Girls|Pop|\n",
    "|Slim Jim Bites|Blues|\n",
    "\n",
    "This label specializes in artists from the USA and we currently have none of their artists on the store, so we'll answer this question by figuring out the most popular genre in the USA. To do this, we will write a query that returns the number of tracks each genre sells in the USA by absolute number and by percentage."
   ]
  },
  {
   "cell_type": "code",
   "execution_count": 4,
   "id": "adc89619-5fa4-4014-95d0-86f03b95cf51",
   "metadata": {},
   "outputs": [
    {
     "name": "stdout",
     "output_type": "stream",
     "text": [
      " * sqlite:///chinook.db\n",
      "Done.\n"
     ]
    },
    {
     "data": {
      "text/html": [
       "<table>\n",
       "    <tr>\n",
       "        <th>name</th>\n",
       "        <th>no_of_tracks_sold</th>\n",
       "        <th>percentage_of_tracks_sold</th>\n",
       "    </tr>\n",
       "    <tr>\n",
       "        <td>Rock</td>\n",
       "        <td>561</td>\n",
       "        <td>11.79314694134959</td>\n",
       "    </tr>\n",
       "    <tr>\n",
       "        <td>Alternative &amp; Punk</td>\n",
       "        <td>130</td>\n",
       "        <td>2.732814799243221</td>\n",
       "    </tr>\n",
       "    <tr>\n",
       "        <td>Metal</td>\n",
       "        <td>124</td>\n",
       "        <td>2.606684885431995</td>\n",
       "    </tr>\n",
       "    <tr>\n",
       "        <td>R&amp;B/Soul</td>\n",
       "        <td>53</td>\n",
       "        <td>1.1141475719991591</td>\n",
       "    </tr>\n",
       "    <tr>\n",
       "        <td>Blues</td>\n",
       "        <td>36</td>\n",
       "        <td>0.7567794828673533</td>\n",
       "    </tr>\n",
       "    <tr>\n",
       "        <td>Alternative</td>\n",
       "        <td>35</td>\n",
       "        <td>0.7357578305654824</td>\n",
       "    </tr>\n",
       "    <tr>\n",
       "        <td>Pop</td>\n",
       "        <td>22</td>\n",
       "        <td>0.46247635064116044</td>\n",
       "    </tr>\n",
       "    <tr>\n",
       "        <td>Latin</td>\n",
       "        <td>22</td>\n",
       "        <td>0.46247635064116044</td>\n",
       "    </tr>\n",
       "    <tr>\n",
       "        <td>Hip Hop/Rap</td>\n",
       "        <td>20</td>\n",
       "        <td>0.4204330460374185</td>\n",
       "    </tr>\n",
       "    <tr>\n",
       "        <td>Jazz</td>\n",
       "        <td>14</td>\n",
       "        <td>0.294303132226193</td>\n",
       "    </tr>\n",
       "    <tr>\n",
       "        <td>Easy Listening</td>\n",
       "        <td>13</td>\n",
       "        <td>0.27328147992432206</td>\n",
       "    </tr>\n",
       "    <tr>\n",
       "        <td>Reggae</td>\n",
       "        <td>6</td>\n",
       "        <td>0.12612991381122557</td>\n",
       "    </tr>\n",
       "    <tr>\n",
       "        <td>Electronica/Dance</td>\n",
       "        <td>5</td>\n",
       "        <td>0.10510826150935462</td>\n",
       "    </tr>\n",
       "    <tr>\n",
       "        <td>Classical</td>\n",
       "        <td>4</td>\n",
       "        <td>0.08408660920748372</td>\n",
       "    </tr>\n",
       "    <tr>\n",
       "        <td>Heavy Metal</td>\n",
       "        <td>3</td>\n",
       "        <td>0.06306495690561278</td>\n",
       "    </tr>\n",
       "    <tr>\n",
       "        <td>Soundtrack</td>\n",
       "        <td>2</td>\n",
       "        <td>0.04204330460374186</td>\n",
       "    </tr>\n",
       "    <tr>\n",
       "        <td>TV Shows</td>\n",
       "        <td>1</td>\n",
       "        <td>0.02102165230187093</td>\n",
       "    </tr>\n",
       "</table>"
      ],
      "text/plain": [
       "[('Rock', 561, 11.79314694134959),\n",
       " ('Alternative & Punk', 130, 2.732814799243221),\n",
       " ('Metal', 124, 2.606684885431995),\n",
       " ('R&B/Soul', 53, 1.1141475719991591),\n",
       " ('Blues', 36, 0.7567794828673533),\n",
       " ('Alternative', 35, 0.7357578305654824),\n",
       " ('Pop', 22, 0.46247635064116044),\n",
       " ('Latin', 22, 0.46247635064116044),\n",
       " ('Hip Hop/Rap', 20, 0.4204330460374185),\n",
       " ('Jazz', 14, 0.294303132226193),\n",
       " ('Easy Listening', 13, 0.27328147992432206),\n",
       " ('Reggae', 6, 0.12612991381122557),\n",
       " ('Electronica/Dance', 5, 0.10510826150935462),\n",
       " ('Classical', 4, 0.08408660920748372),\n",
       " ('Heavy Metal', 3, 0.06306495690561278),\n",
       " ('Soundtrack', 2, 0.04204330460374186),\n",
       " ('TV Shows', 1, 0.02102165230187093)]"
      ]
     },
     "execution_count": 4,
     "metadata": {},
     "output_type": "execute_result"
    }
   ],
   "source": [
    "%%sql\n",
    "SELECT\n",
    "    g.\"name\",\n",
    "    SUM(il.\"quantity\") no_of_tracks_sold,\n",
    "    CAST(SUM(il.\"quantity\") AS FLOAT)/(\n",
    "                                        SELECT\n",
    "                                            CAST(SUM(\"quantity\") AS FLOAT)\n",
    "                                        FROM invoice_line\n",
    "    ) * 100 percentage_of_tracks_sold\n",
    "FROM invoice_line il\n",
    "INNER JOIN\n",
    "    (\n",
    "        SELECT\n",
    "            \"track_id\",\n",
    "            \"genre_id\"\n",
    "        FROM track\n",
    "    ) t ON t.track_id = il.track_id\n",
    "INNER JOIN\n",
    "    (\n",
    "        SELECT\n",
    "            \"genre_id\",\n",
    "            \"name\"\n",
    "        FROM genre\n",
    "    ) g ON g.genre_id = t.genre_id\n",
    "INNER JOIN\n",
    "    (\n",
    "        SELECT\n",
    "            \"invoice_id\",\n",
    "            \"billing_country\"\n",
    "        FROM invoice\n",
    "    ) i ON i.invoice_id = il.invoice_id\n",
    "WHERE i.\"billing_country\" = \"USA\"\n",
    "GROUP BY g.\"name\"\n",
    "ORDER BY SUM(il.\"quantity\") DESC"
   ]
  },
  {
   "cell_type": "markdown",
   "id": "80c48903-e71b-4429-ab25-f178fee4053e",
   "metadata": {},
   "source": [
    "The results show that of the four albums and corresponding genres that could be added to the Chinook store, Red Tone, Meteor and the Girls, and Slim Jim bites--who sing Punk, Pop, and Blues respectively--would likely perform the best in the USA, since those genres are the most popular 3 of the 4."
   ]
  },
  {
   "cell_type": "markdown",
   "id": "8758286a-a1a7-4d2d-ab99-6eab2b90053b",
   "metadata": {},
   "source": [
    "### 2.2 - Which employees have the best sales performance?\n",
    "It's compensation season! Chinook has decided to give its employees holiday bonuses proportional to their sales performances. As a result we need to understand the sales performance of each employee.\n",
    "\n",
    "To answer this question, we'll be looking at the total dollar amount of sales associated with each sales support agent."
   ]
  },
  {
   "cell_type": "code",
   "execution_count": 5,
   "id": "f568d60e-32ed-44a9-95ca-0f41578f045d",
   "metadata": {},
   "outputs": [
    {
     "name": "stdout",
     "output_type": "stream",
     "text": [
      " * sqlite:///chinook.db\n",
      "(sqlite3.OperationalError) table master_table already exists\n",
      "[SQL: CREATE VIEW master_table AS        \n",
      "    SELECT\n",
      "        *\n",
      "    FROM invoice i\n",
      "    INNER JOIN\n",
      "        (\n",
      "            SELECT\n",
      "                \"customer_id\",\n",
      "                \"support_rep_id\"\n",
      "            FROM customer\n",
      "        ) c ON c.\"customer_id\" = i.\"customer_id\"\n",
      "    INNER JOIN\n",
      "        (\n",
      "            SELECT\n",
      "                \"employee_id\",\n",
      "                \"title\",\n",
      "                \"reports_to\",\n",
      "                \"hire_date\"\n",
      "            FROM employee\n",
      "        ) e ON e.\"employee_id\" = c.\"support_rep_id\"\n",
      "    WHERE e.\"title\" = \"Sales Support Agent\"\n",
      "    ;]\n",
      "(Background on this error at: https://sqlalche.me/e/14/e3q8)\n"
     ]
    }
   ],
   "source": [
    "%%sql\n",
    "CREATE VIEW master_table AS        \n",
    "    SELECT\n",
    "        *\n",
    "    FROM invoice i\n",
    "    INNER JOIN\n",
    "        (\n",
    "            SELECT\n",
    "                \"customer_id\",\n",
    "                \"support_rep_id\"\n",
    "            FROM customer\n",
    "        ) c ON c.\"customer_id\" = i.\"customer_id\"\n",
    "    INNER JOIN\n",
    "        (\n",
    "            SELECT\n",
    "                \"employee_id\",\n",
    "                \"title\",\n",
    "                \"reports_to\",\n",
    "                \"hire_date\"\n",
    "            FROM employee\n",
    "        ) e ON e.\"employee_id\" = c.\"support_rep_id\"\n",
    "    WHERE e.\"title\" = \"Sales Support Agent\"\n",
    "    ;\n",
    "    \n",
    "SELECT\n",
    "    \"employee_id\",\n",
    "    SUM(\"total\") total_sales\n",
    "FROM master_table\n",
    "GROUP BY \"employee_id\"\n",
    "    \n",
    "--invoice (customer_id) -> customer (support_rep_id) -> (employee_id) employee"
   ]
  },
  {
   "cell_type": "markdown",
   "id": "67555c11-381d-4c2e-bb54-5a8a85ff5b91",
   "metadata": {},
   "source": [
    "Looks like if we went with just the total dollar amount, employee 3 outperforms employee 4, who outperforms employee 5 (I know, shocking that such a company has only 3 sales support agents). The difference in their performances aren't *that* noticeable though--there could also be other factors contributing to this discrepancy. Let's take a look, for example, at when each of these employees were hired."
   ]
  },
  {
   "cell_type": "code",
   "execution_count": 6,
   "id": "c5d48e26-441d-46d9-a0ea-489e0f9ed6dd",
   "metadata": {},
   "outputs": [
    {
     "name": "stdout",
     "output_type": "stream",
     "text": [
      " * sqlite:///chinook.db\n",
      "Done.\n"
     ]
    },
    {
     "data": {
      "text/html": [
       "<table>\n",
       "    <tr>\n",
       "        <th>employee_id</th>\n",
       "        <th>total_sales</th>\n",
       "        <th>hire_date</th>\n",
       "    </tr>\n",
       "    <tr>\n",
       "        <td>3</td>\n",
       "        <td>1731.5100000000039</td>\n",
       "        <td>2017-04-01 00:00:00</td>\n",
       "    </tr>\n",
       "    <tr>\n",
       "        <td>4</td>\n",
       "        <td>1584.0000000000034</td>\n",
       "        <td>2017-05-03 00:00:00</td>\n",
       "    </tr>\n",
       "    <tr>\n",
       "        <td>5</td>\n",
       "        <td>1393.920000000002</td>\n",
       "        <td>2017-10-17 00:00:00</td>\n",
       "    </tr>\n",
       "</table>"
      ],
      "text/plain": [
       "[(3, 1731.5100000000039, '2017-04-01 00:00:00'),\n",
       " (4, 1584.0000000000034, '2017-05-03 00:00:00'),\n",
       " (5, 1393.920000000002, '2017-10-17 00:00:00')]"
      ]
     },
     "execution_count": 6,
     "metadata": {},
     "output_type": "execute_result"
    }
   ],
   "source": [
    "%%sql\n",
    "SELECT\n",
    "    \"employee_id\",\n",
    "    SUM(\"total\") total_sales,\n",
    "    \"hire_date\"\n",
    "FROM master_table\n",
    "GROUP BY \"employee_id\";"
   ]
  },
  {
   "cell_type": "markdown",
   "id": "7db08743-9846-49e6-aa9f-1b36c08b6aa9",
   "metadata": {},
   "source": [
    "Looks like the hunch was right--as we see above, employees who have been at the company longer tend to have higher total sales. This likely plays a role in the difference in performance.\n",
    "\n",
    "Let's take a look at the performance of employees, using # of customer_id's attached to their names as a metric."
   ]
  },
  {
   "cell_type": "code",
   "execution_count": 7,
   "id": "62b5d5f0-6f2e-4e65-b2b1-b0c43df2eb12",
   "metadata": {},
   "outputs": [
    {
     "name": "stdout",
     "output_type": "stream",
     "text": [
      " * sqlite:///chinook.db\n",
      "Done.\n"
     ]
    },
    {
     "data": {
      "text/html": [
       "<table>\n",
       "    <tr>\n",
       "        <th>employee_id</th>\n",
       "        <th>no_of_customers</th>\n",
       "        <th>hire_date</th>\n",
       "    </tr>\n",
       "    <tr>\n",
       "        <td>3</td>\n",
       "        <td>21</td>\n",
       "        <td>2017-04-01 00:00:00</td>\n",
       "    </tr>\n",
       "    <tr>\n",
       "        <td>4</td>\n",
       "        <td>20</td>\n",
       "        <td>2017-05-03 00:00:00</td>\n",
       "    </tr>\n",
       "    <tr>\n",
       "        <td>5</td>\n",
       "        <td>18</td>\n",
       "        <td>2017-10-17 00:00:00</td>\n",
       "    </tr>\n",
       "</table>"
      ],
      "text/plain": [
       "[(3, 21, '2017-04-01 00:00:00'),\n",
       " (4, 20, '2017-05-03 00:00:00'),\n",
       " (5, 18, '2017-10-17 00:00:00')]"
      ]
     },
     "execution_count": 7,
     "metadata": {},
     "output_type": "execute_result"
    }
   ],
   "source": [
    "%%sql\n",
    "SELECT\n",
    "    \"employee_id\",\n",
    "    COUNT(DISTINCT(\"customer_id\")) no_of_customers,\n",
    "    \"hire_date\"\n",
    "FROM master_table\n",
    "GROUP BY \"employee_id\""
   ]
  },
  {
   "cell_type": "markdown",
   "id": "305328e4-7d07-4d18-afa3-a0bd8c188057",
   "metadata": {},
   "source": [
    "Same story here. Employees who have been at the company longer also have more clients.\n",
    "I think it's overall hard to compare the employees because the hire date is a confounding variable. **A possible next step** would be to normalize the `total_sales` and `no_of_customers` by the number of months an employee has been at Chinook."
   ]
  },
  {
   "cell_type": "markdown",
   "id": "85c2fc25-817d-41a7-9eb1-571424e0b0f4",
   "metadata": {},
   "source": [
    "Let's get rid of the view we created earlier, for cleanliness."
   ]
  },
  {
   "cell_type": "code",
   "execution_count": 8,
   "id": "df78bfa8-5fc9-4431-bb38-fb907f3311ca",
   "metadata": {},
   "outputs": [
    {
     "name": "stdout",
     "output_type": "stream",
     "text": [
      " * sqlite:///chinook.db\n",
      "Done.\n"
     ]
    },
    {
     "data": {
      "text/plain": [
       "[]"
      ]
     },
     "execution_count": 8,
     "metadata": {},
     "output_type": "execute_result"
    }
   ],
   "source": [
    "%%sql\n",
    "DROP VIEW master_table"
   ]
  },
  {
   "cell_type": "markdown",
   "id": "0f77bd73-3272-42d5-b0db-71609fe9562a",
   "metadata": {},
   "source": [
    "### 2.3 - Analyzing sales data by country.\n",
    "Chinook management has asked us for an overview of the business. In particular, they have requested the following information:\n",
    "* Total number of customers\n",
    "* Total values of sales\n",
    "* Average value of sales per customer\n",
    "* Average order value\n",
    "\n",
    "Additionally, for ease of information digestion, we're going to make it so that any countries for which there is only one customer is aggregated under the country name \"Other\", and forced to the bottom of the output.\n",
    "\n",
    "Let's create a view that we can use to answer all these questions, making our downstream work easier."
   ]
  },
  {
   "cell_type": "code",
   "execution_count": 9,
   "id": "11a3ca95-7a00-4210-971c-0ec5bad04c37",
   "metadata": {},
   "outputs": [
    {
     "name": "stdout",
     "output_type": "stream",
     "text": [
      " * sqlite:///chinook.db\n",
      "Done.\n",
      "Done.\n"
     ]
    },
    {
     "data": {
      "text/html": [
       "<table>\n",
       "    <tr>\n",
       "        <th>customer_id</th>\n",
       "        <th>country</th>\n",
       "        <th>total</th>\n",
       "    </tr>\n",
       "    <tr>\n",
       "        <td>18</td>\n",
       "        <td>USA</td>\n",
       "        <td>15.84</td>\n",
       "    </tr>\n",
       "    <tr>\n",
       "        <td>30</td>\n",
       "        <td>Canada</td>\n",
       "        <td>9.9</td>\n",
       "    </tr>\n",
       "    <tr>\n",
       "        <td>40</td>\n",
       "        <td>France</td>\n",
       "        <td>1.98</td>\n",
       "    </tr>\n",
       "    <tr>\n",
       "        <td>18</td>\n",
       "        <td>USA</td>\n",
       "        <td>7.92</td>\n",
       "    </tr>\n",
       "    <tr>\n",
       "        <td>27</td>\n",
       "        <td>USA</td>\n",
       "        <td>16.83</td>\n",
       "    </tr>\n",
       "</table>"
      ],
      "text/plain": [
       "[(18, 'USA', 15.84),\n",
       " (30, 'Canada', 9.9),\n",
       " (40, 'France', 1.98),\n",
       " (18, 'USA', 7.92),\n",
       " (27, 'USA', 16.83)]"
      ]
     },
     "execution_count": 9,
     "metadata": {},
     "output_type": "execute_result"
    }
   ],
   "source": [
    "%%sql\n",
    "CREATE VIEW master_sales_table AS\n",
    "    SELECT\n",
    "        c.\"customer_id\",\n",
    "        c.\"country\",\n",
    "        i.\"total\"\n",
    "    FROM customer c\n",
    "    INNER JOIN\n",
    "        (\n",
    "            SELECT\n",
    "                \"customer_id\",\n",
    "                \"total\"\n",
    "            FROM invoice\n",
    "        ) i ON i.\"customer_id\" = c.\"customer_id\"\n",
    "    ;\n",
    "    \n",
    "SELECT * FROM master_sales_table\n",
    "LIMIT 5"
   ]
  },
  {
   "cell_type": "markdown",
   "id": "acda7694-7152-42be-9911-52c2c7fca1c9",
   "metadata": {},
   "source": [
    "#### 2.3.1 - Total number of customers by country\n",
    "Now let's find the total number of customers, grouped by country. For ease of digestion, we have bucketed all countries with only 1 customer into the category `other`."
   ]
  },
  {
   "cell_type": "code",
   "execution_count": 10,
   "id": "232d6607-5cea-42be-8793-85ebe64a0ceb",
   "metadata": {},
   "outputs": [
    {
     "name": "stdout",
     "output_type": "stream",
     "text": [
      " * sqlite:///chinook.db\n",
      "Done.\n"
     ]
    },
    {
     "data": {
      "text/html": [
       "<table>\n",
       "    <tr>\n",
       "        <th>country</th>\n",
       "        <th>no_of_customers</th>\n",
       "    </tr>\n",
       "    <tr>\n",
       "        <td>Brazil</td>\n",
       "        <td>5</td>\n",
       "    </tr>\n",
       "    <tr>\n",
       "        <td>Canada</td>\n",
       "        <td>8</td>\n",
       "    </tr>\n",
       "    <tr>\n",
       "        <td>Czech Republic</td>\n",
       "        <td>2</td>\n",
       "    </tr>\n",
       "    <tr>\n",
       "        <td>France</td>\n",
       "        <td>5</td>\n",
       "    </tr>\n",
       "    <tr>\n",
       "        <td>Germany</td>\n",
       "        <td>4</td>\n",
       "    </tr>\n",
       "    <tr>\n",
       "        <td>India</td>\n",
       "        <td>2</td>\n",
       "    </tr>\n",
       "    <tr>\n",
       "        <td>Portugal</td>\n",
       "        <td>2</td>\n",
       "    </tr>\n",
       "    <tr>\n",
       "        <td>USA</td>\n",
       "        <td>13</td>\n",
       "    </tr>\n",
       "    <tr>\n",
       "        <td>United Kingdom</td>\n",
       "        <td>3</td>\n",
       "    </tr>\n",
       "    <tr>\n",
       "        <td>other</td>\n",
       "        <td>15</td>\n",
       "    </tr>\n",
       "</table>"
      ],
      "text/plain": [
       "[('Brazil', 5),\n",
       " ('Canada', 8),\n",
       " ('Czech Republic', 2),\n",
       " ('France', 5),\n",
       " ('Germany', 4),\n",
       " ('India', 2),\n",
       " ('Portugal', 2),\n",
       " ('USA', 13),\n",
       " ('United Kingdom', 3),\n",
       " ('other', 15)]"
      ]
     },
     "execution_count": 10,
     "metadata": {},
     "output_type": "execute_result"
    }
   ],
   "source": [
    "%%sql\n",
    "SELECT\n",
    "    \"country\",\n",
    "    \"no_of_customers\"\n",
    "FROM\n",
    "    (\n",
    "        SELECT\n",
    "            *,\n",
    "            CASE\n",
    "                WHEN \"country\" = \"other\" THEN 1\n",
    "                ELSE 0\n",
    "            END AS sort_col\n",
    "        FROM\n",
    "            (\n",
    "                SELECT\n",
    "                    \"country\",\n",
    "                    COUNT(DISTINCT(\"customer_id\")) \"no_of_customers\"\n",
    "                FROM master_sales_table\n",
    "                GROUP BY \"country\"\n",
    "                HAVING \"no_of_customers\" > 1\n",
    "            )\n",
    "\n",
    "        UNION\n",
    "\n",
    "        SELECT\n",
    "            *,\n",
    "            CASE\n",
    "                WHEN \"country\" = \"other\" THEN 1\n",
    "                ELSE 0\n",
    "            END AS sort_col\n",
    "        FROM\n",
    "            (\n",
    "                SELECT\n",
    "                    \"other\" country,\n",
    "                    SUM(\"no_of_customers\") \"no_of_customers\"\n",
    "                FROM \n",
    "                    (\n",
    "                        SELECT\n",
    "                            \"country\",\n",
    "                            COUNT(DISTINCT(\"customer_id\")) \"no_of_customers\"\n",
    "                        FROM master_sales_table\n",
    "                        GROUP BY \"country\"\n",
    "                        HAVING \"no_of_customers\" = 1\n",
    "                    )\n",
    "            )\n",
    "    )\n",
    "ORDER BY sort_col"
   ]
  },
  {
   "cell_type": "markdown",
   "id": "5a1c5a4f-0d25-480a-aa1b-483f7382b406",
   "metadata": {},
   "source": [
    "Looks like Chinook has quite the presence in the USA, while countries like the Czech Republic, India, Portugal, and 15 others are pulling up the rear."
   ]
  },
  {
   "cell_type": "markdown",
   "id": "35ab21b3-5aff-4367-af00-e709256e3bb0",
   "metadata": {},
   "source": [
    "#### 2.3.2 - Total value of sales by country\n",
    "\n",
    "We looked at customers in each country earlier, now let's find the total value of sales by country to tease out just how much money Chinook is making from each country."
   ]
  },
  {
   "cell_type": "code",
   "execution_count": 13,
   "id": "240bf0ba-9778-4f1b-bf74-cdd4d9407d9d",
   "metadata": {},
   "outputs": [
    {
     "name": "stdout",
     "output_type": "stream",
     "text": [
      " * sqlite:///chinook.db\n",
      "Done.\n"
     ]
    },
    {
     "data": {
      "text/html": [
       "<table>\n",
       "    <tr>\n",
       "        <th>country</th>\n",
       "        <th>total</th>\n",
       "    </tr>\n",
       "    <tr>\n",
       "        <td>Brazil</td>\n",
       "        <td>427.68000000000006</td>\n",
       "    </tr>\n",
       "    <tr>\n",
       "        <td>Canada</td>\n",
       "        <td>535.5900000000001</td>\n",
       "    </tr>\n",
       "    <tr>\n",
       "        <td>Czech Republic</td>\n",
       "        <td>273.24000000000007</td>\n",
       "    </tr>\n",
       "    <tr>\n",
       "        <td>France</td>\n",
       "        <td>389.0699999999999</td>\n",
       "    </tr>\n",
       "    <tr>\n",
       "        <td>Germany</td>\n",
       "        <td>334.62</td>\n",
       "    </tr>\n",
       "    <tr>\n",
       "        <td>India</td>\n",
       "        <td>183.14999999999998</td>\n",
       "    </tr>\n",
       "    <tr>\n",
       "        <td>Portugal</td>\n",
       "        <td>185.13000000000002</td>\n",
       "    </tr>\n",
       "    <tr>\n",
       "        <td>USA</td>\n",
       "        <td>1040.4899999999998</td>\n",
       "    </tr>\n",
       "    <tr>\n",
       "        <td>United Kingdom</td>\n",
       "        <td>245.52</td>\n",
       "    </tr>\n",
       "    <tr>\n",
       "        <td>other</td>\n",
       "        <td>1094.9399999999998</td>\n",
       "    </tr>\n",
       "</table>"
      ],
      "text/plain": [
       "[('Brazil', 427.68000000000006),\n",
       " ('Canada', 535.5900000000001),\n",
       " ('Czech Republic', 273.24000000000007),\n",
       " ('France', 389.0699999999999),\n",
       " ('Germany', 334.62),\n",
       " ('India', 183.14999999999998),\n",
       " ('Portugal', 185.13000000000002),\n",
       " ('USA', 1040.4899999999998),\n",
       " ('United Kingdom', 245.52),\n",
       " ('other', 1094.9399999999998)]"
      ]
     },
     "execution_count": 13,
     "metadata": {},
     "output_type": "execute_result"
    }
   ],
   "source": [
    "%%sql\n",
    "SELECT\n",
    "    \"country\",\n",
    "    \"total\"\n",
    "FROM\n",
    "    (\n",
    "        SELECT\n",
    "            *,\n",
    "            CASE\n",
    "                WHEN \"country\" = \"other\" THEN 1\n",
    "                ELSE 0\n",
    "            END AS sort_col\n",
    "        FROM\n",
    "            (\n",
    "                SELECT\n",
    "                    \"country\",\n",
    "                    \"total\"\n",
    "                FROM\n",
    "                    (\n",
    "                        SELECT\n",
    "                            \"country\",\n",
    "                            COUNT(DISTINCT(\"customer_id\")) \"no_of_customers\",\n",
    "                            SUM(\"total\") \"total\"\n",
    "                        FROM master_sales_table\n",
    "                        GROUP BY \"country\"\n",
    "                        HAVING \"no_of_customers\" > 1\n",
    "                    )\n",
    "\n",
    "                UNION\n",
    "\n",
    "                SELECT\n",
    "                    \"other\" \"country\",\n",
    "                    SUM(\"total\")\n",
    "                FROM\n",
    "                    (\n",
    "                        SELECT\n",
    "                            \"country\",\n",
    "                            COUNT(DISTINCT(\"customer_id\")) \"no_of_customers\",\n",
    "                            SUM(\"total\") \"total\"\n",
    "                        FROM master_sales_table\n",
    "                        GROUP BY \"country\"\n",
    "                        HAVING \"no_of_customers\" = 1\n",
    "                    )\n",
    "            )\n",
    "            ORDER BY sort_col\n",
    "    )"
   ]
  },
  {
   "cell_type": "markdown",
   "id": "709c8ba5-7634-4a95-aa3c-e2b2f995674d",
   "metadata": {},
   "source": [
    "Looks like Chinook has struggling sales in Portugal, India, and the UK to name a few. This could either be because there are few but high-paying customers in these countries, or there are many but low-paying customers in these countries (or somewhere in between). Let's take a closer look on how the number of customers affect these figures, by looking at the average value of sales per customer."
   ]
  },
  {
   "cell_type": "markdown",
   "id": "6ceece16-974d-4d1a-a2c9-885a5fb1fa20",
   "metadata": {},
   "source": [
    "#### 2.3.3 Average value of sales per customer\n",
    "\n",
    "The Chinook marketing team has been tasked with creating a marketing campaign for countries with low total sales per customer. Management has asked us to identify these countries, so the marketing campaigns can be deployed correctly. Let's take a look."
   ]
  },
  {
   "cell_type": "code",
   "execution_count": 14,
   "id": "997fd60b-616a-465d-afb3-43aa6924d9cf",
   "metadata": {},
   "outputs": [
    {
     "name": "stdout",
     "output_type": "stream",
     "text": [
      " * sqlite:///chinook.db\n",
      "Done.\n"
     ]
    },
    {
     "data": {
      "text/html": [
       "<table>\n",
       "    <tr>\n",
       "        <th>country</th>\n",
       "        <th>avg_sales_per_customer</th>\n",
       "    </tr>\n",
       "    <tr>\n",
       "        <td>Brazil</td>\n",
       "        <td>85.53599999999999</td>\n",
       "    </tr>\n",
       "    <tr>\n",
       "        <td>Canada</td>\n",
       "        <td>66.94875</td>\n",
       "    </tr>\n",
       "    <tr>\n",
       "        <td>Czech Republic</td>\n",
       "        <td>136.62</td>\n",
       "    </tr>\n",
       "    <tr>\n",
       "        <td>France</td>\n",
       "        <td>77.814</td>\n",
       "    </tr>\n",
       "    <tr>\n",
       "        <td>Germany</td>\n",
       "        <td>83.655</td>\n",
       "    </tr>\n",
       "    <tr>\n",
       "        <td>India</td>\n",
       "        <td>91.57499999999999</td>\n",
       "    </tr>\n",
       "    <tr>\n",
       "        <td>Portugal</td>\n",
       "        <td>92.565</td>\n",
       "    </tr>\n",
       "    <tr>\n",
       "        <td>USA</td>\n",
       "        <td>80.03769230769231</td>\n",
       "    </tr>\n",
       "    <tr>\n",
       "        <td>United Kingdom</td>\n",
       "        <td>81.83999999999999</td>\n",
       "    </tr>\n",
       "    <tr>\n",
       "        <td>other</td>\n",
       "        <td>72.996</td>\n",
       "    </tr>\n",
       "</table>"
      ],
      "text/plain": [
       "[('Brazil', 85.53599999999999),\n",
       " ('Canada', 66.94875),\n",
       " ('Czech Republic', 136.62),\n",
       " ('France', 77.814),\n",
       " ('Germany', 83.655),\n",
       " ('India', 91.57499999999999),\n",
       " ('Portugal', 92.565),\n",
       " ('USA', 80.03769230769231),\n",
       " ('United Kingdom', 81.83999999999999),\n",
       " ('other', 72.996)]"
      ]
     },
     "execution_count": 14,
     "metadata": {},
     "output_type": "execute_result"
    }
   ],
   "source": [
    "%%sql\n",
    "SELECT\n",
    "    \"country\",\n",
    "    CAST(\"total\" AS FLOAT)/CAST(\"no_of_customers\" AS FLOAT) \"avg_sales_per_customer\"\n",
    "FROM\n",
    "    (\n",
    "        SELECT\n",
    "            \"country\",\n",
    "            SUM(\"total\") \"total\",\n",
    "            COUNT(DISTINCT(\"customer_id\")) \"no_of_customers\"\n",
    "        FROM\n",
    "        (\n",
    "            SELECT\n",
    "                \"customer_id\",\n",
    "                \"country\",\n",
    "                SUM(\"total\") total\n",
    "            FROM master_sales_table\n",
    "            GROUP BY \"customer_id\"\n",
    "        )\n",
    "        GROUP BY \"country\"\n",
    "        HAVING \"no_of_customers\" > 1\n",
    "    )\n",
    "    \n",
    "UNION\n",
    "\n",
    "SELECT\n",
    "    \"other\" \"country\",\n",
    "    AVG(\"total\") \"avg_sales_per_customer\"\n",
    "FROM\n",
    "    (\n",
    "        SELECT\n",
    "            \"country\",\n",
    "            SUM(\"total\") \"total\",\n",
    "            COUNT(DISTINCT(\"customer_id\")) \"no_of_customers\"\n",
    "        FROM\n",
    "        (\n",
    "            SELECT\n",
    "                \"customer_id\",\n",
    "                \"country\",\n",
    "                SUM(\"total\") total\n",
    "            FROM master_sales_table\n",
    "            GROUP BY \"customer_id\"\n",
    "        )\n",
    "        GROUP BY \"country\"\n",
    "        HAVING \"no_of_customers\" = 1\n",
    "    )"
   ]
  },
  {
   "cell_type": "markdown",
   "id": "f059b510-232b-495d-b8c1-a08949c4367f",
   "metadata": {},
   "source": [
    "It seems like there are opportunities for increased marketing attention in Canada, France, Germany, and the \"other\" countries."
   ]
  },
  {
   "cell_type": "markdown",
   "id": "0656906f-69a3-4ddb-b8f4-0da7bda222da",
   "metadata": {},
   "source": [
    "#### 2.3.4 - Average order value\n",
    "\n",
    "Let's take a look at the size of the average order value by country."
   ]
  },
  {
   "cell_type": "code",
   "execution_count": 15,
   "id": "a8b12aee-9863-4aca-95bc-a88061fc14be",
   "metadata": {},
   "outputs": [
    {
     "name": "stdout",
     "output_type": "stream",
     "text": [
      " * sqlite:///chinook.db\n",
      "Done.\n"
     ]
    },
    {
     "data": {
      "text/html": [
       "<table>\n",
       "    <tr>\n",
       "        <th>country</th>\n",
       "        <th>avg_order_value</th>\n",
       "    </tr>\n",
       "    <tr>\n",
       "        <td>Czech Republic</td>\n",
       "        <td>9.108000000000002</td>\n",
       "    </tr>\n",
       "    <tr>\n",
       "        <td>United Kingdom</td>\n",
       "        <td>8.768571428571429</td>\n",
       "    </tr>\n",
       "    <tr>\n",
       "        <td>India</td>\n",
       "        <td>8.72142857142857</td>\n",
       "    </tr>\n",
       "    <tr>\n",
       "        <td>Germany</td>\n",
       "        <td>8.161463414634147</td>\n",
       "    </tr>\n",
       "    <tr>\n",
       "        <td>USA</td>\n",
       "        <td>7.942671755725189</td>\n",
       "    </tr>\n",
       "    <tr>\n",
       "        <td>France</td>\n",
       "        <td>7.781399999999998</td>\n",
       "    </tr>\n",
       "    <tr>\n",
       "        <td>other</td>\n",
       "        <td>7.445071062271063</td>\n",
       "    </tr>\n",
       "    <tr>\n",
       "        <td>Canada</td>\n",
       "        <td>7.047236842105265</td>\n",
       "    </tr>\n",
       "    <tr>\n",
       "        <td>Brazil</td>\n",
       "        <td>7.0111475409836075</td>\n",
       "    </tr>\n",
       "    <tr>\n",
       "        <td>Portugal</td>\n",
       "        <td>6.383793103448276</td>\n",
       "    </tr>\n",
       "</table>"
      ],
      "text/plain": [
       "[('Czech Republic', 9.108000000000002),\n",
       " ('United Kingdom', 8.768571428571429),\n",
       " ('India', 8.72142857142857),\n",
       " ('Germany', 8.161463414634147),\n",
       " ('USA', 7.942671755725189),\n",
       " ('France', 7.781399999999998),\n",
       " ('other', 7.445071062271063),\n",
       " ('Canada', 7.047236842105265),\n",
       " ('Brazil', 7.0111475409836075),\n",
       " ('Portugal', 6.383793103448276)]"
      ]
     },
     "execution_count": 15,
     "metadata": {},
     "output_type": "execute_result"
    }
   ],
   "source": [
    "%%sql\n",
    "SELECT *\n",
    "FROM (\n",
    "    SELECT\n",
    "        \"country\",\n",
    "        \"avg_order_value\"\n",
    "    FROM\n",
    "        (\n",
    "            SELECT\n",
    "                \"country\",\n",
    "                AVG(\"total\") \"avg_order_value\",\n",
    "                COUNT(DISTINCT(\"customer_id\")) \"no_of_customers\"\n",
    "            FROM master_sales_table\n",
    "            GROUP BY \"country\"\n",
    "            HAVING \"no_of_customers\" > 1\n",
    "        )\n",
    "\n",
    "    UNION\n",
    "\n",
    "    SELECT\n",
    "        \"other\" \"country\",\n",
    "        AVG(\"avg_order_value\") \"avg_order_value\"\n",
    "    FROM\n",
    "        (\n",
    "            SELECT\n",
    "                \"country\",\n",
    "                AVG(\"total\") \"avg_order_value\",\n",
    "                COUNT(DISTINCT(\"customer_id\")) \"no_of_customers\"\n",
    "            FROM master_sales_table\n",
    "            GROUP BY \"country\"\n",
    "            HAVING \"no_of_customers\" = 1\n",
    "        )\n",
    ")\n",
    "ORDER BY \"avg_order_value\" DESC"
   ]
  },
  {
   "cell_type": "markdown",
   "id": "f3f62a18-ab3e-4264-b4f1-2b5f5c175d9c",
   "metadata": {},
   "source": [
    "The three countries with the lowest order values are Canada, Brazil, and Portugal. Probably worth a deeper look as to what can be done from a marketing side to boost these numbers."
   ]
  },
  {
   "cell_type": "code",
   "execution_count": 16,
   "id": "5b7eaf55-5b63-4e6b-8b64-dc0998abe8d9",
   "metadata": {},
   "outputs": [
    {
     "name": "stdout",
     "output_type": "stream",
     "text": [
      " * sqlite:///chinook.db\n",
      "Done.\n"
     ]
    },
    {
     "data": {
      "text/plain": [
       "[]"
      ]
     },
     "execution_count": 16,
     "metadata": {},
     "output_type": "execute_result"
    }
   ],
   "source": [
    "%%sql\n",
    "DROP VIEW master_sales_table"
   ]
  },
  {
   "cell_type": "markdown",
   "id": "fb76cc30-e221-4147-8db3-22fc3dde6be9",
   "metadata": {},
   "source": [
    "### 2.4 - Categorizing each invoice as an album purchase or not\n",
    "Chinook management team is evaluating a purchase strategy proposal that would allow them to purchase specific tracks from labels, as opposed to entire albums. This looks attractive to management because they would save money if they didn't have to purchase entire albums, but purchased only the popular songs instead. To examine this proposal, they've asked to analyze how customers currently purchase music from the store--do they purchase more often by album, or by individual tracks?\n",
    "\n",
    "We can categorize each invoice into two buckets:\n",
    "* Whole albums purchases\n",
    "* Individual track purchases\n",
    "\n",
    "We know, for the purposes of this analysis, that invoices with a whole album purchased ***do not*** also include individual tracks. In other words, an invoice is either entirely a whole album, or entirely a collection of tracks from different albums. We can use this information to aid our analysis by creating a view that comprises of one (effectively random) track from each invoice. We can then find the other `track_id`s in the album that this track belongs to, and cross reference that list with the other `track_id`s in the invoice."
   ]
  },
  {
   "cell_type": "code",
   "execution_count": 17,
   "id": "ca5ca108-a6cd-41de-8e82-033a0c51f6d2",
   "metadata": {},
   "outputs": [
    {
     "name": "stdout",
     "output_type": "stream",
     "text": [
      " * sqlite:///chinook.db\n",
      "Done.\n"
     ]
    },
    {
     "data": {
      "text/plain": [
       "[]"
      ]
     },
     "execution_count": 17,
     "metadata": {},
     "output_type": "execute_result"
    }
   ],
   "source": [
    "%%sql\n",
    "CREATE VIEW invoice_single_track_table AS\n",
    "    SELECT\n",
    "        \"invoice_id\",\n",
    "        MAX(\"track_id\") \"track_id\"\n",
    "    FROM invoice_line\n",
    "    GROUP BY \"invoice_id\"\n",
    "    ;"
   ]
  },
  {
   "cell_type": "markdown",
   "id": "70f4b3ad-2b16-44b2-b477-1444e20cdc12",
   "metadata": {},
   "source": [
    "Ensure that the view was created properly..."
   ]
  },
  {
   "cell_type": "code",
   "execution_count": 18,
   "id": "e35df14b-4452-4043-aea2-86e750fddf05",
   "metadata": {},
   "outputs": [
    {
     "name": "stdout",
     "output_type": "stream",
     "text": [
      " * sqlite:///chinook.db\n",
      "Done.\n"
     ]
    },
    {
     "data": {
      "text/html": [
       "<table>\n",
       "    <tr>\n",
       "        <th>invoice_id</th>\n",
       "        <th>track_id</th>\n",
       "    </tr>\n",
       "    <tr>\n",
       "        <td>1</td>\n",
       "        <td>1173</td>\n",
       "    </tr>\n",
       "    <tr>\n",
       "        <td>2</td>\n",
       "        <td>3476</td>\n",
       "    </tr>\n",
       "    <tr>\n",
       "        <td>3</td>\n",
       "        <td>2646</td>\n",
       "    </tr>\n",
       "    <tr>\n",
       "        <td>4</td>\n",
       "        <td>3448</td>\n",
       "    </tr>\n",
       "    <tr>\n",
       "        <td>5</td>\n",
       "        <td>2002</td>\n",
       "    </tr>\n",
       "</table>"
      ],
      "text/plain": [
       "[(1, 1173), (2, 3476), (3, 2646), (4, 3448), (5, 2002)]"
      ]
     },
     "execution_count": 18,
     "metadata": {},
     "output_type": "execute_result"
    }
   ],
   "source": [
    "%%sql\n",
    "SELECT * FROM invoice_single_track_table\n",
    "LIMIT 5"
   ]
  },
  {
   "cell_type": "markdown",
   "id": "eee62890-3c2f-4498-8700-3289e56f2c25",
   "metadata": {},
   "source": [
    "Now we find the other `track_id`s in the album that this track belongs to, and cross reference that list with the other `track_id`s in the invoice, and finally compile the results."
   ]
  },
  {
   "cell_type": "code",
   "execution_count": 19,
   "id": "b5bdbd7b-c000-49ae-8888-169aba102b1e",
   "metadata": {},
   "outputs": [
    {
     "name": "stdout",
     "output_type": "stream",
     "text": [
      " * sqlite:///chinook.db\n",
      "Done.\n"
     ]
    },
    {
     "data": {
      "text/html": [
       "<table>\n",
       "    <tr>\n",
       "        <th>no_of_invoices</th>\n",
       "        <th>pct_album_purchase</th>\n",
       "    </tr>\n",
       "    <tr>\n",
       "        <td>614</td>\n",
       "        <td>18.566775244299674</td>\n",
       "    </tr>\n",
       "</table>"
      ],
      "text/plain": [
       "[(614, 18.566775244299674)]"
      ]
     },
     "execution_count": 19,
     "metadata": {},
     "output_type": "execute_result"
    }
   ],
   "source": [
    "%%sql\n",
    "SELECT\n",
    "    COUNT(*) \"no_of_invoices\",\n",
    "    CAST(SUM(\"album_purchase?\") AS FLOAT)/CAST(COUNT(*) AS FLOAT) * 100 \"pct_album_purchase\"\n",
    "FROM\n",
    "(\n",
    "    SELECT\n",
    "        \"invoice_id\",\n",
    "        CASE\n",
    "            WHEN\n",
    "            (\n",
    "                SELECT\n",
    "                    \"track_id\"\n",
    "                FROM track\n",
    "                WHERE \"album_id\" = (\n",
    "                                    SELECT\n",
    "                                        \"album_id\"\n",
    "                                    FROM track\n",
    "                                    WHERE \"track_id\" = istt.\"track_id\"\n",
    "                                    )\n",
    "\n",
    "                EXCEPT\n",
    "\n",
    "                SELECT\n",
    "                    \"track_id\"\n",
    "                FROM invoice_line il\n",
    "                WHERE \"invoice_id\" = istt.\"invoice_id\"\n",
    "            ) IS NULL\n",
    "            AND\n",
    "            (\n",
    "                SELECT\n",
    "                    \"track_id\"\n",
    "                FROM invoice_line il\n",
    "                WHERE \"invoice_id\" = istt.\"invoice_id\"\n",
    "\n",
    "                EXCEPT\n",
    "\n",
    "                SELECT\n",
    "                    \"track_id\"\n",
    "                FROM track\n",
    "                WHERE \"album_id\" = (\n",
    "                                    SELECT\n",
    "                                        \"album_id\"\n",
    "                                    FROM track\n",
    "                                    WHERE \"track_id\" = istt.\"track_id\"\n",
    "                                    )\n",
    "            ) IS NULL\n",
    "            THEN 1\n",
    "            ELSE 0\n",
    "        END AS \"album_purchase?\"\n",
    "    FROM invoice_single_track_table istt\n",
    ")"
   ]
  },
  {
   "cell_type": "markdown",
   "id": "de905818-41d5-4b12-b38d-145e0db6c89a",
   "metadata": {},
   "source": [
    "Looks like of all the invoices, only 18% of them are full album purchases, indicating that most customers of the Chinook music store pick and choose the individual tracks they like, when shopping. This indicates that the Chinook management team might be better served purchasing only the popular songs from the record companies. As a next step, it would be worth exploring just how this strategy would affect Chinook's customers. In other words, if Chinook management only bought the most popular songs for, say, the past two years, how much revenue would they have missed out on in terms of song purchases? Then we can compare this number to the amount of money they'd have saved by not purchasing the full albums. If the latter number is greater than the former, then the management team should only buy popular songs, instead of entire albums."
   ]
  },
  {
   "cell_type": "code",
   "execution_count": 20,
   "id": "2ce5676e-ccbd-475f-b76b-dfbd07f66092",
   "metadata": {},
   "outputs": [
    {
     "name": "stdout",
     "output_type": "stream",
     "text": [
      " * sqlite:///chinook.db\n",
      "Done.\n"
     ]
    },
    {
     "data": {
      "text/plain": [
       "[]"
      ]
     },
     "execution_count": 20,
     "metadata": {},
     "output_type": "execute_result"
    }
   ],
   "source": [
    "%%sql\n",
    "DROP VIEW invoice_single_track_table"
   ]
  },
  {
   "cell_type": "markdown",
   "id": "a92accb9-86d1-4711-a85f-fdbe2e1733e0",
   "metadata": {},
   "source": [
    "In this project, we've used SQL to explore some business and personnel questions for the hypothetical online music store, Chinook Inc. We joined several tables, aggregated multiple statistics, and even segmented the data by some specified rules (like album purchase invoices vs single song purchase invoices). "
   ]
  },
  {
   "cell_type": "code",
   "execution_count": null,
   "id": "c89b19cf-a794-42d4-bd39-7ae1fbd2823c",
   "metadata": {},
   "outputs": [],
   "source": []
  }
 ],
 "metadata": {
  "kernelspec": {
   "display_name": "Python 3 (ipykernel)",
   "language": "python",
   "name": "python3"
  },
  "language_info": {
   "codemirror_mode": {
    "name": "ipython",
    "version": 3
   },
   "file_extension": ".py",
   "mimetype": "text/x-python",
   "name": "python",
   "nbconvert_exporter": "python",
   "pygments_lexer": "ipython3",
   "version": "3.9.1"
  }
 },
 "nbformat": 4,
 "nbformat_minor": 5
}
